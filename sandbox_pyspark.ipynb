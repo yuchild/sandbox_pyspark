{
 "cells": [
  {
   "cell_type": "code",
   "execution_count": 3,
   "id": "4801ec62-59c9-4c37-9219-5bc6ca523aa4",
   "metadata": {},
   "outputs": [
    {
     "name": "stderr",
     "output_type": "stream",
     "text": [
      "                                                                                "
     ]
    },
    {
     "name": "stdout",
     "output_type": "stream",
     "text": [
      "+---------+---------+--------------------+--------+--------------+---------+----------+--------------+\n",
      "|InvoiceNo|StockCode|         Description|Quantity|   InvoiceDate|UnitPrice|CustomerID|       Country|\n",
      "+---------+---------+--------------------+--------+--------------+---------+----------+--------------+\n",
      "|   536365|   85123A|WHITE HANGING HEA...|       6|12/1/2010 8:26|     2.55|     17850|United Kingdom|\n",
      "|   536365|    71053| WHITE METAL LANTERN|       6|12/1/2010 8:26|     3.39|     17850|United Kingdom|\n",
      "|   536365|   84406B|CREAM CUPID HEART...|       8|12/1/2010 8:26|     2.75|     17850|United Kingdom|\n",
      "|   536365|   84029G|KNITTED UNION FLA...|       6|12/1/2010 8:26|     3.39|     17850|United Kingdom|\n",
      "|   536365|   84029E|RED WOOLLY HOTTIE...|       6|12/1/2010 8:26|     3.39|     17850|United Kingdom|\n",
      "|   536365|    22752|SET 7 BABUSHKA NE...|       2|12/1/2010 8:26|     7.65|     17850|United Kingdom|\n",
      "|   536365|    21730|GLASS STAR FROSTE...|       6|12/1/2010 8:26|     4.25|     17850|United Kingdom|\n",
      "|   536366|    22633|HAND WARMER UNION...|       6|12/1/2010 8:28|     1.85|     17850|United Kingdom|\n",
      "|   536366|    22632|HAND WARMER RED P...|       6|12/1/2010 8:28|     1.85|     17850|United Kingdom|\n",
      "|   536367|    84879|ASSORTED COLOUR B...|      32|12/1/2010 8:34|     1.69|     13047|United Kingdom|\n",
      "|   536367|    22745|POPPY'S PLAYHOUSE...|       6|12/1/2010 8:34|      2.1|     13047|United Kingdom|\n",
      "|   536367|    22748|POPPY'S PLAYHOUSE...|       6|12/1/2010 8:34|      2.1|     13047|United Kingdom|\n",
      "|   536367|    22749|FELTCRAFT PRINCES...|       8|12/1/2010 8:34|     3.75|     13047|United Kingdom|\n",
      "|   536367|    22310|IVORY KNITTED MUG...|       6|12/1/2010 8:34|     1.65|     13047|United Kingdom|\n",
      "|   536367|    84969|BOX OF 6 ASSORTED...|       6|12/1/2010 8:34|     4.25|     13047|United Kingdom|\n",
      "|   536367|    22623|BOX OF VINTAGE JI...|       3|12/1/2010 8:34|     4.95|     13047|United Kingdom|\n",
      "|   536367|    22622|BOX OF VINTAGE AL...|       2|12/1/2010 8:34|     9.95|     13047|United Kingdom|\n",
      "|   536367|    21754|HOME BUILDING BLO...|       3|12/1/2010 8:34|     5.95|     13047|United Kingdom|\n",
      "|   536367|    21755|LOVE BUILDING BLO...|       3|12/1/2010 8:34|     5.95|     13047|United Kingdom|\n",
      "|   536367|    21777|RECIPE BOX WITH M...|       4|12/1/2010 8:34|     7.95|     13047|United Kingdom|\n",
      "+---------+---------+--------------------+--------+--------------+---------+----------+--------------+\n",
      "only showing top 20 rows\n",
      "\n"
     ]
    }
   ],
   "source": [
    "import os\n",
    "\n",
    "# Set JAVA_HOME to the path where your Java is installed\n",
    "os.environ[\"JAVA_HOME\"] = \"/usr/lib/jvm/java-11-openjdk-amd64\"\n",
    "\n",
    "from pyspark.sql import SparkSession\n",
    "\n",
    "# Create a SparkSession\n",
    "spark = SparkSession.builder \\\n",
    "    .appName(\"CSV Import\") \\\n",
    "    .getOrCreate()\n",
    "\n",
    "# Read your CSV file\n",
    "df = spark.read.csv(\"./data/data.csv\", header=True, inferSchema=True)\n",
    "df.show()\n",
    "\n",
    "spark.stop()\n"
   ]
  },
  {
   "cell_type": "code",
   "execution_count": 8,
   "id": "f265a435-7e46-4e6d-9c6e-74e1178377b1",
   "metadata": {},
   "outputs": [
    {
     "name": "stderr",
     "output_type": "stream",
     "text": [
      "                                                                                "
     ]
    },
    {
     "name": "stdout",
     "output_type": "stream",
     "text": [
      "RFM Metrics:\n"
     ]
    },
    {
     "name": "stderr",
     "output_type": "stream",
     "text": [
      "                                                                                "
     ]
    },
    {
     "name": "stdout",
     "output_type": "stream",
     "text": [
      "+----------+-------+---------+------------------+\n",
      "|CustomerID|Recency|Frequency|          Monetary|\n",
      "+----------+-------+---------+------------------+\n",
      "|     17420|     50|       30| 598.8299999999999|\n",
      "|     16861|     59|        8|            151.65|\n",
      "|     16503|    106|       86|           1421.43|\n",
      "|     15727|     16|      302| 5178.959999999998|\n",
      "|     17389|      0|      224|31300.079999999994|\n",
      "|     15447|    330|        9|            155.17|\n",
      "|     14450|    180|       40|            483.25|\n",
      "|     13623|     30|       86|            672.44|\n",
      "|     13285|     23|      187|2709.1199999999994|\n",
      "|     16339|    284|       20|109.95000000000002|\n",
      "+----------+-------+---------+------------------+\n",
      "only showing top 10 rows\n",
      "\n"
     ]
    },
    {
     "name": "stderr",
     "output_type": "stream",
     "text": [
      "                                                                                "
     ]
    },
    {
     "name": "stdout",
     "output_type": "stream",
     "text": [
      "RFM Clustering Results:\n"
     ]
    },
    {
     "name": "stderr",
     "output_type": "stream",
     "text": [
      "                                                                                "
     ]
    },
    {
     "name": "stdout",
     "output_type": "stream",
     "text": [
      "+----------+-------+---------+------------------+-------+\n",
      "|CustomerID|Recency|Frequency|          Monetary|cluster|\n",
      "+----------+-------+---------+------------------+-------+\n",
      "|     17420|     50|       30| 598.8299999999999|      0|\n",
      "|     16861|     59|        8|            151.65|      0|\n",
      "|     16503|    106|       86|           1421.43|      3|\n",
      "|     15727|     16|      302| 5178.959999999998|      0|\n",
      "|     17389|      0|      224|31300.079999999994|      0|\n",
      "|     15447|    330|        9|            155.17|      2|\n",
      "|     14450|    180|       40|            483.25|      3|\n",
      "|     13623|     30|       86|            672.44|      0|\n",
      "|     13285|     23|      187|2709.1199999999994|      0|\n",
      "|     16339|    284|       20|109.95000000000002|      2|\n",
      "+----------+-------+---------+------------------+-------+\n",
      "only showing top 10 rows\n",
      "\n"
     ]
    }
   ],
   "source": [
    "from pyspark.sql import SparkSession\n",
    "from pyspark.sql.functions import col, to_timestamp, max as spark_max, datediff, lit, count, sum as spark_sum\n",
    "from pyspark.ml.feature import VectorAssembler, StandardScaler\n",
    "from pyspark.ml.clustering import KMeans\n",
    "\n",
    "# Create a SparkSession\n",
    "spark = SparkSession.builder \\\n",
    "    .appName(\"CSV Import with Legacy Time Parser\") \\\n",
    "    .config(\"spark.sql.legacy.timeParserPolicy\", \"LEGACY\") \\\n",
    "    .getOrCreate()\n",
    "\n",
    "# Read the CSV file; adjust the path if necessary\n",
    "# Assume the CSV has at least these columns: CustomerID, InvoiceDate, InvoiceNo, Amount\n",
    "df = spark.read.csv(\"./data/data.csv\", header=True, inferSchema=True)\n",
    "\n",
    "# Convert InvoiceDate to a date type (adjust the format string as needed)\n",
    "df = df.withColumn(\"InvoiceDate\", to_timestamp(col(\"InvoiceDate\"), \"M/d/yyyy H:mm\"))\n",
    "\n",
    "# Create a new column 'TotalAmount' by multiplying 'Quantity' and 'UnitPrice'\n",
    "df = df.withColumn(\"TotalAmount\", col(\"Quantity\") * col(\"UnitPrice\"))\n",
    "\n",
    "# Determine the reference date as the maximum InvoiceDate in the data\n",
    "max_date = df.select(spark_max(\"InvoiceDate\").alias(\"max_date\")).collect()[0][\"max_date\"]\n",
    "\n",
    "# Aggregate data to compute RFM metrics for each customer\n",
    "# - Recency: days since last purchase (difference between reference date and last purchase date)\n",
    "# - Frequency: total number of invoices (or transactions)\n",
    "# - Monetary: total spend (sum of Amount)\n",
    "rfm_df = df.groupBy(\"CustomerID\").agg(\n",
    "    datediff(lit(max_date), spark_max(\"InvoiceDate\")).alias(\"Recency\"),\n",
    "    count(\"InvoiceNo\").alias(\"Frequency\"),\n",
    "    spark_sum(\"TotalAmount\").alias(\"Monetary\")\n",
    ")\n",
    "\n",
    "print(\"RFM Metrics:\")\n",
    "rfm_df.show(10)\n",
    "\n",
    "# Assemble the RFM metrics into a feature vector\n",
    "assembler = VectorAssembler(\n",
    "    inputCols=[\"Recency\", \"Frequency\", \"Monetary\"],\n",
    "    outputCol=\"features_unscaled\"\n",
    ")\n",
    "rfm_features = assembler.transform(rfm_df)\n",
    "\n",
    "# Standardize features for better clustering performance (optional but recommended)\n",
    "scaler = StandardScaler(\n",
    "    inputCol=\"features_unscaled\", \n",
    "    outputCol=\"features\",\n",
    "    withStd=True, \n",
    "    withMean=True\n",
    ")\n",
    "scaler_model = scaler.fit(rfm_features)\n",
    "rfm_features = scaler_model.transform(rfm_features)\n",
    "\n",
    "# Train a KMeans model on the features; here we choose k=4 clusters (adjust as needed)\n",
    "k = 4\n",
    "kmeans = KMeans(featuresCol=\"features\", predictionCol=\"cluster\", k=k, seed=42)\n",
    "model = kmeans.fit(rfm_features)\n",
    "\n",
    "# Add cluster assignments to the DataFrame\n",
    "rfm_clustered = model.transform(rfm_features)\n",
    "\n",
    "print(\"RFM Clustering Results:\")\n",
    "rfm_clustered.select(\"CustomerID\", \"Recency\", \"Frequency\", \"Monetary\", \"cluster\").show(10)\n",
    "\n",
    "# Stop the Spark session when done\n",
    "spark.stop()\n"
   ]
  },
  {
   "cell_type": "code",
   "execution_count": null,
   "id": "d23f1960-a015-45bc-98bd-bccd31aa2c7b",
   "metadata": {},
   "outputs": [],
   "source": []
  }
 ],
 "metadata": {
  "kernelspec": {
   "display_name": "pyspark pskenv",
   "language": "python",
   "name": "pskenv"
  },
  "language_info": {
   "codemirror_mode": {
    "name": "ipython",
    "version": 3
   },
   "file_extension": ".py",
   "mimetype": "text/x-python",
   "name": "python",
   "nbconvert_exporter": "python",
   "pygments_lexer": "ipython3",
   "version": "3.12.3"
  }
 },
 "nbformat": 4,
 "nbformat_minor": 5
}
